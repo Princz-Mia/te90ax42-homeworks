{
 "cells": [
  {
   "cell_type": "code",
   "execution_count": 1,
   "metadata": {},
   "outputs": [],
   "source": [
    "import time\n",
    "\n",
    "def time_function(func, *args, **kwargs):\n",
    "    start_time = time.time()\n",
    "    result = func(*args, **kwargs)\n",
    "    end_time = time.time()\n",
    "    return result, end_time - start_time"
   ]
  },
  {
   "cell_type": "code",
   "execution_count": 45,
   "metadata": {},
   "outputs": [],
   "source": [
    "# wordList defininálása\n",
    "wordList = [\"mobile\", \"samsung\", \"sam\", \"sung\", \"man\",\n",
    "                \"mango\", \"icecream\", \"and\", \"go\", \"i\",\n",
    "                \"like\", \"ice\", \"cream\"]\n",
    "\n",
    "# Felbontandó szöveg\n",
    "word = \"ilikesamsung\""
   ]
  },
  {
   "cell_type": "code",
   "execution_count": 28,
   "metadata": {},
   "outputs": [],
   "source": [
    "# 1. Rekurzív megoldás\n",
    "def wordBreakRecursion(wordList, word):\n",
    "    # Bázis feltétel\n",
    "    if word == \"\":\n",
    "        return True\n",
    "    \n",
    "    for i in range(1, len(word) + 1):\n",
    "        # Ha a szó első részlete megtalálható a szótárban, és a maradék rekurzívan is felbontható, akkor a teljes szó felbontható.\n",
    "        if word[:i] in wordList and wordBreakRecursion(wordList, word[i:]):\n",
    "            return True\n",
    "        \n",
    "    return False"
   ]
  },
  {
   "cell_type": "code",
   "execution_count": 46,
   "metadata": {},
   "outputs": [
    {
     "name": "stdout",
     "output_type": "stream",
     "text": [
      "Rekurzív megoldás: Eredmény: True, Futási idő: 0.000000 másodperc\n"
     ]
    }
   ],
   "source": [
    "# Rekurzív megoldás futtatása\n",
    "result_rec, elapsed_time_rec = time_function(wordBreakRecursion, wordList, word)\n",
    "print(f\"Rekurzív megoldás: Eredmény: {result_rec}, Futási idő: {elapsed_time_rec:.6f} másodperc\")"
   ]
  }
 ],
 "metadata": {
  "kernelspec": {
   "display_name": "Python 3",
   "language": "python",
   "name": "python3"
  },
  "language_info": {
   "codemirror_mode": {
    "name": "ipython",
    "version": 3
   },
   "file_extension": ".py",
   "mimetype": "text/x-python",
   "name": "python",
   "nbconvert_exporter": "python",
   "pygments_lexer": "ipython3",
   "version": "3.11.4"
  }
 },
 "nbformat": 4,
 "nbformat_minor": 2
}
