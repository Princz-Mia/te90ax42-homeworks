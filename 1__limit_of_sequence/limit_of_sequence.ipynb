{
 "cells": [
  {
   "cell_type": "code",
   "execution_count": 1,
   "metadata": {},
   "outputs": [
    {
     "name": "stdout",
     "output_type": "stream",
     "text": [
      "Sikeresen találtam N-t minden epsilon esetén a 1000 próbából.\n",
      "Keresett N értéke: 49\n"
     ]
    }
   ],
   "source": [
    "import numpy as np\n",
    "import random\n",
    "import sympy as sp\n",
    "from sympy.abc import n\n",
    "\n",
    "# Sorozat definíciója\n",
    "def sequence(n):\n",
    "    # Az órai példa sorozat\n",
    "    return (n**2 - 3*n + 4) / (n**2 - 1)\n",
    "\n",
    "# Határérték (analitikusan ismert)\n",
    "L = sp.limit_seq(sequence(n), n)\n",
    "\n",
    "def find_N(sequence, L, num_test=1000, max_n=10000, epsilon_range=(0.001, 0.1)):\n",
    "    # Véletlenszerű, 1000db epsilon generálása\n",
    "    epsilons = [random.uniform(epsilon_range[0], epsilon_range[1]) for _ in range(num_test)]\n",
    "\n",
    "    for epsilon in epsilons:\n",
    "        found_N = False\n",
    "\n",
    "        for N in range(1, max_n):\n",
    "            all_in_epsilon = True\n",
    "\n",
    "            for n in range(N + 1, N + 101):\n",
    "                if abs(sequence(n) - L) > epsilon:\n",
    "                    all_in_epsilon = False\n",
    "                    break\n",
    "\n",
    "            if all_in_epsilon:\n",
    "                found_N = True\n",
    "                break\n",
    "\n",
    "        if not found_N:\n",
    "            print(f\"Nem találtam N-t az epsilon={epsilon} esetén belül.\")\n",
    "            return None\n",
    "\n",
    "    print(f\"Sikeresen találtam N-t minden epsilon esetén a {num_test} próbából.\")\n",
    "    return N\n",
    "\n",
    "\n",
    "N = find_N(sequence, L)\n",
    "if (N is not None):\n",
    "    print(f\"Keresett N értéke: {N}\")"
   ]
  }
 ],
 "metadata": {
  "kernelspec": {
   "display_name": "Python 3",
   "language": "python",
   "name": "python3"
  },
  "language_info": {
   "codemirror_mode": {
    "name": "ipython",
    "version": 3
   },
   "file_extension": ".py",
   "mimetype": "text/x-python",
   "name": "python",
   "nbconvert_exporter": "python",
   "pygments_lexer": "ipython3",
   "version": "3.11.4"
  }
 },
 "nbformat": 4,
 "nbformat_minor": 2
}
